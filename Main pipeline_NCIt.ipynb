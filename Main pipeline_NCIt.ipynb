{
 "cells": [
  {
   "cell_type": "markdown",
   "id": "21cec0ed-5060-4510-8d37-411ec4844324",
   "metadata": {},
   "source": [
    "This note book contains a customization of the Fengbo's code to obtain lexical features for NCIt. The code was based on: NLS_FCA_LogicalDef_Latest.py"
   ]
  },
  {
   "cell_type": "code",
   "execution_count": 3,
   "id": "c81f3c6d-ce05-45d6-a698-3b0f4d0a9346",
   "metadata": {},
   "outputs": [],
   "source": [
    "import string\n",
    "allowed = string.ascii_letters + string.digits\n",
    "from tqdm import tqdm\n",
    "import pandas as pd\n",
    "from Graph import *\n",
    "from NonLatticeSubgraphs import *\n",
    "from tqdm import tqdm\n",
    "tqdm.pandas()"
   ]
  },
  {
   "cell_type": "code",
   "execution_count": 4,
   "id": "51287328-dc1e-4375-8f1f-6dc7832650b7",
   "metadata": {},
   "outputs": [],
   "source": [
    "import csv\n",
    "import spacy\n",
    "from spacy.tokenizer import Tokenizer #split by space #default for Tokenizer\n",
    "nlp = spacy.load(\"en_core_web_lg\")\n",
    "nlp.tokenizer = Tokenizer(nlp.vocab)"
   ]
  },
  {
   "cell_type": "code",
   "execution_count": 5,
   "id": "7450c796-db16-4f00-93a4-2a3c51dfc914",
   "metadata": {},
   "outputs": [],
   "source": [
    "import copy"
   ]
  },
  {
   "cell_type": "markdown",
   "id": "43200b61-9151-4794-847f-f134fe5227e3",
   "metadata": {},
   "source": [
    "# Loading graph"
   ]
  },
  {
   "cell_type": "code",
   "execution_count": 6,
   "id": "d7a20809-c4d6-4705-91e9-6ad6ab89b771",
   "metadata": {},
   "outputs": [],
   "source": [
    "# Fengbo's method\n",
    "def checkNotSymbol(inputToken):\n",
    "    if any(x in allowed for x in inputToken) == True:\n",
    "        return True\n",
    "    else:\n",
    "        return False"
   ]
  },
  {
   "cell_type": "code",
   "execution_count": 7,
   "id": "7e2920a7-e923-4483-9da5-d273ad25dc70",
   "metadata": {},
   "outputs": [],
   "source": [
    "# input files\n",
    "input_labelsFile_ncit = 'NCIt/NCIt_labels_23_05e.txt'\n",
    "input_hierarchyFile_ncit = 'NCIt/NCIt_hierarchy_23_05e.txt'\n",
    "input_nlsFile_ncit = 'NCIt/NCIT_nonlattice_bottom_up_closure_23-05e.txt'"
   ]
  },
  {
   "cell_type": "code",
   "execution_count": 8,
   "id": "c3b63846-c874-4bb2-9688-9c658003e051",
   "metadata": {},
   "outputs": [
    {
     "name": "stdout",
     "output_type": "stream",
     "text": [
      "Number of nodes:  180065\n",
      "Number of edges:  207501\n",
      "Num NLSs:  14529\n"
     ]
    }
   ],
   "source": [
    "G_ncit = load_networkx_graph(input_labelsFile_ncit, input_hierarchyFile_ncit)\n",
    "\n",
    "nlss_ncit = loadNLSsFromHierarchy(G_ncit, input_nlsFile_ncit, None)"
   ]
  },
  {
   "cell_type": "code",
   "execution_count": 9,
   "id": "bab4b45d-b3ef-4b5a-a784-fced420abd3b",
   "metadata": {},
   "outputs": [
    {
     "name": "stderr",
     "output_type": "stream",
     "text": [
      "100%|███████████████████████████████████████████████████████████████████████| 180065/180065 [00:02<00:00, 79052.05it/s]\n"
     ]
    }
   ],
   "source": [
    "# pre-computing ancestors as nx.descendants() method takes time\n",
    "con_ancs = {}  # key=concept id, value = set of its ancestors\n",
    "for con in tqdm(G_ncit.nodes()):\n",
    "    con_ancs[con] = nx.descendants(G_ncit, con)"
   ]
  },
  {
   "cell_type": "markdown",
   "id": "1069d129-72aa-41c9-855d-d8ca296b48ed",
   "metadata": {},
   "source": [
    "# Loading non-lattice subgraph (NLS) and the non-related concept-pairs within the NLS"
   ]
  },
  {
   "cell_type": "code",
   "execution_count": 8,
   "id": "4f8b5dd0-8821-41af-a914-b22427b88305",
   "metadata": {},
   "outputs": [
    {
     "name": "stdout",
     "output_type": "stream",
     "text": [
      "Number of nodes in subhierarchy:  26482\n",
      "Number of edges in subhierarchy:  32217\n",
      "Num NLSs:  1320\n"
     ]
    }
   ],
   "source": [
    "ncit_drug_id = 'C1908' # CORRECT DRUG CODE\n",
    "#ncit_drug_id = 'C3262'\n",
    "ncit_drug_graph = obtainSubhierarchy(G_ncit, ncit_drug_id)\n",
    "nlss_ncit_drug= loadNLSsFromHierarchy(ncit_drug_graph, input_nlsFile_ncit, None)"
   ]
  },
  {
   "cell_type": "code",
   "execution_count": 9,
   "id": "b29fbbb0-5acd-4db4-ab10-8558c6643049",
   "metadata": {},
   "outputs": [
    {
     "name": "stderr",
     "output_type": "stream",
     "text": [
      "100%|███████████████████████████████████████| 1320/1320 [01:56<00:00, 11.32it/s]\n"
     ]
    }
   ],
   "source": [
    "ncit_drug_nls_non_rels = set()\n",
    "for nls in tqdm(nlss_ncit_drug):\n",
    "    ncit_drug_nls_non_rels.update(nls.getAllNonRelations())"
   ]
  },
  {
   "cell_type": "code",
   "execution_count": 10,
   "id": "8e78c8c2-9913-4556-abcb-17d4c7bdead5",
   "metadata": {},
   "outputs": [
    {
     "data": {
      "text/plain": [
       "1896730"
      ]
     },
     "execution_count": 10,
     "metadata": {},
     "output_type": "execute_result"
    }
   ],
   "source": [
    "len(ncit_drug_nls_non_rels)"
   ]
  },
  {
   "cell_type": "code",
   "execution_count": 10,
   "id": "dee8392b-2455-4814-9200-ff81a999cb9b",
   "metadata": {},
   "outputs": [
    {
     "name": "stderr",
     "output_type": "stream",
     "text": [
      "100%|████████████████████████████████████████████████████████████████████████████| 14529/14529 [09:40<00:00, 25.01it/s]\n"
     ]
    }
   ],
   "source": [
    "ncit_all_nls_non_rels = set()\n",
    "for nls in tqdm(nlss_ncit):\n",
    "    ncit_all_nls_non_rels.update(nls.getAllNonRelations())"
   ]
  },
  {
   "cell_type": "code",
   "execution_count": 12,
   "id": "e49df021-8d50-4d59-ad8d-e4b854506a89",
   "metadata": {},
   "outputs": [
    {
     "data": {
      "text/plain": [
       "7212970"
      ]
     },
     "execution_count": 12,
     "metadata": {},
     "output_type": "execute_result"
    }
   ],
   "source": [
    "len(ncit_all_nls_non_rels)"
   ]
  },
  {
   "cell_type": "markdown",
   "id": "7e305652-b0c4-46ac-b352-4ef5e594f2c7",
   "metadata": {},
   "source": [
    "# Obtaining lexical features"
   ]
  },
  {
   "cell_type": "code",
   "execution_count": 13,
   "id": "3e7b1b19-31ed-4152-8441-b635d81dc543",
   "metadata": {},
   "outputs": [],
   "source": [
    "# obtaining bag-of-words\n",
    "for con in G_ncit.nodes():\n",
    "    if 'label' not in G_ncit.nodes[con]: # 'thing' does not have a label\n",
    "        continue\n",
    "    G_ncit.nodes[con]['bow'] = set(G_ncit.nodes[con]['label'].lower().replace(\",\", \" ,\").replace(\":\",\" :\").replace(\".\",\" .\").split())"
   ]
  },
  {
   "cell_type": "code",
   "execution_count": 65,
   "id": "3eadb3b5-009b-4763-89e5-de9a986c86b1",
   "metadata": {},
   "outputs": [
    {
     "data": {
      "text/plain": [
       "{of, nerve, of, abdomen}"
      ]
     },
     "execution_count": 65,
     "metadata": {},
     "output_type": "execute_result"
    }
   ],
   "source": [
    "usedToken"
   ]
  },
  {
   "cell_type": "code",
   "execution_count": 16,
   "id": "877cc802-036f-4f6a-a5d6-2a6e7f4730f2",
   "metadata": {},
   "outputs": [
    {
     "name": "stderr",
     "output_type": "stream",
     "text": [
      "100%|█████████████████████████████████████████████████████████████████████████| 180065/180065 [11:07<00:00, 269.78it/s]\n"
     ]
    }
   ],
   "source": [
    "# obtaining words, noun chunks, pobj, dobj dependencies\n",
    "for con in tqdm(G_ncit.nodes()):\n",
    "    if 'label' not in G_ncit.nodes[con]: # 'thing' does not have a label\n",
    "        continue\n",
    "    doc = nlp(G_ncit.nodes[con]['label'])\n",
    "    LinguisticFeature = set()\n",
    "    usedToken = set()\n",
    "    for nounChunks in doc.noun_chunks:\n",
    "        if checkNotSymbol(nounChunks.text) == True and len(nounChunks)>1:  # Fengbo's code\n",
    "            LinguisticFeature.add(nounChunks.text)\n",
    "        if (checkNotSymbol(nounChunks.root.text) == True) and ((nounChunks.root.dep_ == \"pobj\") or (nounChunks.root.dep_ == \"dobj\")):\n",
    "            LinguisticFeature.add(nounChunks.root.head.text+\" \"+nounChunks.root.text)\n",
    "            usedToken.add(nounChunks.root)\n",
    "            usedToken.add(nounChunks.root.head)\n",
    "    \n",
    "    for token in doc:\n",
    "        if token not in usedToken and checkNotSymbol(token.text) == True:\n",
    "            LinguisticFeature.add(token.text)\n",
    "    \n",
    "    G_ncit.nodes[con]['linguistic_features'] = LinguisticFeature"
   ]
  },
  {
   "cell_type": "code",
   "execution_count": 17,
   "id": "c54f3b1c-093a-4ecd-baa7-885ab9de3871",
   "metadata": {},
   "outputs": [
    {
     "name": "stderr",
     "output_type": "stream",
     "text": [
      "100%|███████████████████████████████████████████████████████████████████████| 180065/180065 [00:03<00:00, 59656.91it/s]\n"
     ]
    }
   ],
   "source": [
    "# obtaining enriched words, noun chunks, pobj, dobj dependencies\n",
    "for con in tqdm(G_ncit.nodes()):\n",
    "    if 'linguistic_features' in G_ncit.nodes[con]:\n",
    "        enriched = copy.deepcopy(G_ncit.nodes[con]['linguistic_features'])\n",
    "    else:\n",
    "        enriched = set()\n",
    "        \n",
    "    for anc in con_ancs[con]: #nx.descendants(G_ncit, con):\n",
    "        if 'linguistic_features' in G_ncit.nodes[anc]:\n",
    "            enriched.update(G_ncit.nodes[anc]['linguistic_features'])\n",
    "    \n",
    "    G_ncit.nodes[con]['enriched_linguistic_features'] = enriched"
   ]
  },
  {
   "cell_type": "code",
   "execution_count": 25,
   "id": "ba2c9609-9ace-44ad-83a8-abbd55007c14",
   "metadata": {},
   "outputs": [
    {
     "name": "stderr",
     "output_type": "stream",
     "text": [
      "100%|██████████| 180064/180064 [00:00<00:00, 267102.55it/s]\n"
     ]
    }
   ],
   "source": [
    "# writing enriched linguistic features to a file\n",
    "enriched_linguistic_features_output = 'Outputs/enriched_linguistic_features.txt'\n",
    "with open(enriched_linguistic_features_output, 'w') as txtfile:\n",
    "    for con in tqdm(G_ncit.nodes()):\n",
    "        if 'enriched_linguistic_features' in G_ncit.nodes[con]:\n",
    "            txtfile.write(con + '\\t' + '-##-'.join(G_ncit.nodes[con]['enriched_linguistic_features'])+ '\\n')"
   ]
  },
  {
   "cell_type": "markdown",
   "id": "64607db2-bcd1-45d1-82f3-747c27c0ffc2",
   "metadata": {},
   "source": [
    "# Loading concept statuses (primitive/defined)"
   ]
  },
  {
   "cell_type": "code",
   "execution_count": 18,
   "id": "fecd9d9e-fc24-4f55-bbfd-826bf83f9c9d",
   "metadata": {},
   "outputs": [],
   "source": [
    "input_conceptStatus_ncit = 'NCIt/NCIt_concept_status_23_05e.txt'\n",
    "with open(input_conceptStatus_ncit, 'r') as txtfile:\n",
    "    for line in txtfile:\n",
    "        con_id, status = line.strip().split('\\t')\n",
    "        if con_id not in G_ncit.nodes():\n",
    "            print('concept not in graph: ', con_id)\n",
    "            continue\n",
    "        G_ncit.nodes[con_id]['status'] = status"
   ]
  },
  {
   "cell_type": "markdown",
   "id": "1edd98ab-47dc-4377-8e3d-e081363787dd",
   "metadata": {},
   "source": [
    "C43634 and C63553 are obsolete. Should check how these appear in the concept status file but not in the labels file."
   ]
  },
  {
   "cell_type": "markdown",
   "id": "0432094d-7493-4406-b8c9-5668359e2a7b",
   "metadata": {},
   "source": [
    "# Obtaining logical definitions (attribute relations)"
   ]
  },
  {
   "cell_type": "code",
   "execution_count": 21,
   "id": "827ab1f7-bc90-4ee8-aa8a-4a15f8ba24fb",
   "metadata": {},
   "outputs": [],
   "source": [
    "# loading attribute relations from file\n",
    "input_attributeFile_ncit = 'NCIt/NCIt_attribute_rels_23_05e.txt'\n",
    "with open(input_attributeFile_ncit, 'r') as txtfile:\n",
    "    for line in txtfile:\n",
    "        con_id, prop_value = line.strip().split('\\t')\n",
    "        prop, value = prop_value.split('|')\n",
    "        if 'attribute_rels' not in G_ncit.nodes[con_id]:\n",
    "            G_ncit.nodes[con_id]['attribute_rels'] = {}\n",
    "        if prop not in G_ncit.nodes[con_id]['attribute_rels']:\n",
    "            G_ncit.nodes[con_id]['attribute_rels'][prop] = set()\n",
    "        G_ncit.nodes[con_id]['attribute_rels'][prop].add(value)"
   ]
  },
  {
   "cell_type": "code",
   "execution_count": 22,
   "id": "1f6d98c8-4e60-4737-a346-1bd29371b6c6",
   "metadata": {},
   "outputs": [
    {
     "data": {
      "text/plain": [
       "{'C43752': {'C12917', 'C12922'},\n",
       " 'C43750': {'C45714'},\n",
       " 'C43753': {'C12964'},\n",
       " 'C43746': {'C36105', 'C36122', 'C53665', 'C53667'},\n",
       " 'C43756': {'C36115'},\n",
       " 'C43749': {'C12578'},\n",
       " 'C43760': {'C12964'}}"
      ]
     },
     "execution_count": 22,
     "metadata": {},
     "output_type": "execute_result"
    }
   ],
   "source": [
    "G_ncit.nodes['C9118']['attribute_rels']"
   ]
  },
  {
   "cell_type": "code",
   "execution_count": 16,
   "id": "96f227b9-61d7-438b-8452-eab3aa276a5b",
   "metadata": {},
   "outputs": [
    {
     "name": "stderr",
     "output_type": "stream",
     "text": [
      "100%|█████████████████████████████| 1896730/1896730 [00:04<00:00, 431999.95it/s]\n"
     ]
    }
   ],
   "source": [
    "# all drug NLS candidate-pair concepts' and their parents' attribute relationships\n",
    "drug_con_attr_relationships = set()\n",
    "for con1_con2 in tqdm(ncit_drug_nls_non_rels):\n",
    "    con1, con2 = con1_con2\n",
    "    if 'attribute_rels' in G_ncit.nodes[con1]:\n",
    "        drug_con_attr_relationships.update(G_ncit.nodes[con1]['attribute_rels'].keys())\n",
    "    if 'attribute_rels' in G_ncit.nodes[con2]:\n",
    "        drug_con_attr_relationships.update(G_ncit.nodes[con2]['attribute_rels'].keys())"
   ]
  },
  {
   "cell_type": "code",
   "execution_count": 19,
   "id": "0d1b7616-eb75-4d6b-84c1-2b26a42261cb",
   "metadata": {},
   "outputs": [
    {
     "name": "stdout",
     "output_type": "stream",
     "text": [
      "Chemical_Or_Drug_Is_Metabolized_By_Enzyme\n",
      "Chemical_Or_Drug_Affects_Abnormal_Cell\n",
      "Chemical_Or_Drug_Has_Physiologic_Effect\n",
      "Chemical_Or_Drug_Has_Mechanism_Of_Action\n",
      "Chemical_Or_Drug_Affects_Cell_Type_Or_Tissue\n",
      "Chemical_Or_Drug_Affects_Gene_Product\n",
      "Chemical_Or_Drug_Plays_Role_In_Biological_Process\n"
     ]
    }
   ],
   "source": [
    "for attr in drug_con_attr_relationships:\n",
    "    print(G_ncit.nodes[attr]['label'])"
   ]
  },
  {
   "cell_type": "markdown",
   "id": "a50faaa4-5cea-42f6-99a1-ae2712abddc7",
   "metadata": {},
   "source": [
    "# Obtaining Associations"
   ]
  },
  {
   "cell_type": "code",
   "execution_count": 23,
   "id": "a65c2e1f-352b-477b-8dfe-cadccc00a437",
   "metadata": {},
   "outputs": [],
   "source": [
    "# loading associations from file\n",
    "input_associationFile_ncit = 'NCIt/NCIt_association_rels_23_05e.txt'\n",
    "with open(input_associationFile_ncit, 'r') as txtfile:\n",
    "    for line in txtfile:\n",
    "        con_id, prop_value = line.strip().split('\\t')\n",
    "        if con_id not in G_ncit.nodes():\n",
    "            continue\n",
    "        prop, value = prop_value.split('|')\n",
    "        if 'associations' not in G_ncit.nodes[con_id]:\n",
    "            G_ncit.nodes[con_id]['associations'] = {}\n",
    "        if prop not in G_ncit.nodes[con_id]['associations']:\n",
    "            G_ncit.nodes[con_id]['associations'][prop] = set()\n",
    "        G_ncit.nodes[con_id]['associations'][prop].add(value)"
   ]
  },
  {
   "cell_type": "code",
   "execution_count": 24,
   "id": "2cc7984c-e46a-4f59-9ffd-189d1c703832",
   "metadata": {},
   "outputs": [
    {
     "data": {
      "text/plain": [
       "{'C54538': {'C116977', 'C116978', 'C176424', 'C63923'},\n",
       " 'C53690': {'C30006'},\n",
       " 'C49123': {'C71717'}}"
      ]
     },
     "execution_count": 24,
     "metadata": {},
     "output_type": "execute_result"
    }
   ],
   "source": [
    "G_ncit.nodes['C142912']['associations']"
   ]
  },
  {
   "cell_type": "markdown",
   "id": "7bc0d8be-8f9c-4159-b61c-1f70489e983a",
   "metadata": {},
   "source": [
    "# Missing IS-A identification"
   ]
  },
  {
   "cell_type": "code",
   "execution_count": 82,
   "id": "39ac3be0-0c20-4546-912b-a52e36a8ca87",
   "metadata": {},
   "outputs": [
    {
     "data": {
      "text/plain": [
       "True"
      ]
     },
     "execution_count": 82,
     "metadata": {},
     "output_type": "execute_result"
    }
   ],
   "source": [
    "# check logical definition subsumption - pairwise comparison\n",
    "\n",
    "def logical_subsumption_0(pot_child, pot_parent):\n",
    "    if not con_ancs[pot_parent].issubset(con_ancs[pot_child]):  # child's ancestors should be a super set of parents.\n",
    "        #print('AAAA')\n",
    "        return False\n",
    "    \n",
    "    for prop_par, value_set_par in G_ncit.nodes[pot_parent]['attribute_rels'].items():\n",
    "        flag2 = False\n",
    "        for prop_chi, value_set_chi in G_ncit.nodes[pot_child]['attribute_rels'].items():\n",
    "            if (prop_par==prop_chi) or (prop_par in con_ancs[prop_chi]):\n",
    "                flag2 = True  #if attribute type is found\n",
    "#                 if prop_par in con_ancs[prop_chi]:\n",
    "#                     print('property level subsumption', prop_chi, prop_par)\n",
    "                for val_par in value_set_par:\n",
    "                    flag=False\n",
    "                    for val_chi in value_set_chi:\n",
    "                        if (val_par==val_chi) or (val_par in con_ancs[val_chi]):\n",
    "#                             if val_par in con_ancs[val_chi]:\n",
    "#                                 print('value level subsumption', val_chi, val_par)\n",
    "                            flag=True\n",
    "                            break\n",
    "                    if flag==False:    # a specific attribute-value pair for (prop_chi, value_set_chi) has not been found\n",
    "                        return False\n",
    "\n",
    "        if flag2 == False:\n",
    "            return False\n",
    "            \n",
    "                    \n",
    "    return True\n",
    "\n",
    "\n",
    "\n",
    "def general_exists(prop_par, val_par, pot_child):\n",
    "    for prop_chi, value_set_chi in G_ncit.nodes[pot_child]['attribute_rels'].items():\n",
    "        if (prop_par==prop_chi) or (prop_par in con_ancs[prop_chi]):\n",
    "            for val_chi in value_set_chi:\n",
    "                if (val_par==val_chi) or (val_par in con_ancs[val_chi]):\n",
    "                    return True\n",
    "    return False\n",
    "    \n",
    "\n",
    "\n",
    "def logical_subsumption(pot_child, pot_parent):\n",
    "    if not con_ancs[pot_parent].issubset(con_ancs[pot_child]):  # child's ancestors should be a super set of parents.\n",
    "        #print('AAAA')\n",
    "        return False\n",
    "    \n",
    "    for prop_par, value_set_par in G_ncit.nodes[pot_parent]['attribute_rels'].items():\n",
    "        for val_par in value_set_par:\n",
    "            if not general_exists(prop_par, val_par, pot_child):\n",
    "                return False\n",
    "    return True\n",
    "\n",
    "                    \n",
    "#logical_subsumption('C2372', 'C179618')\n",
    "logical_subsumption('C7446', 'C7045')"
   ]
  },
  {
   "cell_type": "code",
   "execution_count": 86,
   "id": "5a319515-7e35-48d0-8e22-c11824c94703",
   "metadata": {},
   "outputs": [],
   "source": [
    "# obtain the attribute relation between two given concepts\n",
    "def get_attribute_relation_between_cons(con1, con2):\n",
    "    con1_descendants = nx.ancestors(G_ncit, con1)\n",
    "    con2_descendants = nx.ancestors(G_ncit, con2)\n",
    "    for attr, val_set in G_ncit.nodes[con1]['attribute_rels'].items():\n",
    "        if con2 in val_set:\n",
    "            return attr\n",
    "        for dec_con2 in con2_descendants:\n",
    "            if dec_con2 in val_set:\n",
    "                return attr\n",
    "            \n",
    "    for attr, val_set in G_ncit.nodes[con2]['attribute_rels'].items():\n",
    "        if con1 in val_set:\n",
    "            return attr\n",
    "        for dec_con1 in con1_descendants:\n",
    "            if dec_con1 in val_set:\n",
    "                return attr"
   ]
  },
  {
   "cell_type": "code",
   "execution_count": 87,
   "id": "23967532-2fd6-4e21-9eb5-3255ffa6aa83",
   "metadata": {},
   "outputs": [
    {
     "data": {
      "text/plain": [
       "'C43737'"
      ]
     },
     "execution_count": 87,
     "metadata": {},
     "output_type": "execute_result"
    }
   ],
   "source": [
    "get_attribute_relation_between_cons('C155321', 'C18219')"
   ]
  },
  {
   "cell_type": "code",
   "execution_count": 88,
   "id": "dbfef8de-fe8d-4b8d-b64d-c40e1c3355ed",
   "metadata": {},
   "outputs": [],
   "source": [
    "# get associations between concepts (only applies to NCIt which has a special kind of relations called associations)\n",
    "def get_associations_between_cons(con1, con2):\n",
    "    if 'associations' in G_ncit.nodes[con1]:\n",
    "        for attr, val_set in G_ncit.nodes[con1]['associations'].items():\n",
    "            if con2 in val_set:\n",
    "                return attr\n",
    "    \n",
    "    if 'associations' in G_ncit.nodes[con2]:\n",
    "        for attr, val_set in G_ncit.nodes[con2]['associations'].items():\n",
    "            if con1 in val_set:\n",
    "                return attr"
   ]
  },
  {
   "cell_type": "code",
   "execution_count": 89,
   "id": "fdd6b890-2ecd-4c64-bec7-f71813dc21c4",
   "metadata": {},
   "outputs": [
    {
     "data": {
      "text/plain": [
       "'C54538'"
      ]
     },
     "execution_count": 89,
     "metadata": {},
     "output_type": "execute_result"
    }
   ],
   "source": [
    "get_associations_between_cons('C142912', 'C176424')"
   ]
  },
  {
   "cell_type": "code",
   "execution_count": 114,
   "id": "a959f355-a7a2-49cd-b52e-eb92e320d213",
   "metadata": {},
   "outputs": [
    {
     "name": "stderr",
     "output_type": "stream",
     "text": [
      "100%|████████████████████████████████████████████████████████████████████| 7212970/7212970 [00:18<00:00, 386704.35it/s]\n"
     ]
    }
   ],
   "source": [
    "potential_missing_isa = set()\n",
    "#for pot_child, pot_parent in tqdm(ncit_drug_nls_non_rels):\n",
    "for pot_child, pot_parent in tqdm(ncit_all_nls_non_rels):\n",
    "    if ('attribute_rels' not in G_ncit.nodes[pot_parent]) or ('attribute_rels' not in G_ncit.nodes[pot_child]): # the parent should have at least one attribute relation\n",
    "        continue\n",
    "        \n",
    "#     if G_ncit.nodes[pot_child]['status']!='defined':  # the child should be defined\n",
    "#         continue\n",
    "        \n",
    "    if (pot_parent in con_ancs[pot_child]) or (pot_child in con_ancs[pot_parent]): # an relation exists already (this does not apply hear as we are working with NLS non-relations)\n",
    "        continue\n",
    "\n",
    "    if pot_child == 'C179912' and (G_ncit.nodes[pot_parent]['enriched_linguistic_features'].issubset(G_ncit.nodes[pot_child]['enriched_linguistic_features'])):#logical_subsumption(pot_child, pot_parent):\n",
    "        print(pot_child, pot_parent)\n",
    "    \n",
    "    if (G_ncit.nodes[pot_parent]['enriched_linguistic_features'].issubset(G_ncit.nodes[pot_child]['enriched_linguistic_features'])) and logical_subsumption(pot_child, pot_parent):\n",
    "        if pot_child == 'C179912':\n",
    "            print('AAAA')\n",
    "        con1_con2_attr_rel = get_attribute_relation_between_cons(pot_child, pot_parent)\n",
    "        if con1_con2_attr_rel is not None:    # if there exists an attribute relationship between these concepts\n",
    "            #print('Attribute relation exists!!!: ', pot_child, pot_parent, con1_con2_attr_rel)\n",
    "            continue\n",
    "            \n",
    "        con1_con2_association = get_associations_between_cons(pot_child, pot_parent)\n",
    "        if con1_con2_association is not None:\n",
    "            #print('Association exists!!!: ', pot_child, pot_parent, con1_con2_association)\n",
    "            potential_missing_isa.add((pot_child, G_ncit.nodes[pot_child]['label'], pot_parent, G_ncit.nodes[pot_parent]['label'], G_ncit.nodes[con1_con2_association]['label']))\n",
    "            continue\n",
    "\n",
    "        potential_missing_isa.add((pot_child, G_ncit.nodes[pot_child]['label'], pot_parent, G_ncit.nodes[pot_parent]['label'], ''))\n",
    "        \n",
    "#     if (G_ncit.nodes[pot_parent]['enriched_linguistic_features'].issubset(G_ncit.nodes[pot_child]['enriched_linguistic_features'])):\n",
    "#         potential_missing_isa.add((pot_child, pot_parent))\n",
    "        \n",
    "#     if logical_subsumption(pot_child, pot_parent):\n",
    "#         potential_missing_isa.add((pot_child, pot_parent))"
   ]
  },
  {
   "cell_type": "code",
   "execution_count": 91,
   "id": "f475f2a8-60bf-4a38-b597-5d8f7b01eef1",
   "metadata": {},
   "outputs": [
    {
     "data": {
      "text/plain": [
       "293"
      ]
     },
     "execution_count": 91,
     "metadata": {},
     "output_type": "execute_result"
    }
   ],
   "source": [
    "len(potential_missing_isa)"
   ]
  },
  {
   "cell_type": "code",
   "execution_count": 92,
   "id": "3847cdf3-75d2-4c70-80fb-06eeaa0043fb",
   "metadata": {},
   "outputs": [],
   "source": [
    "def remove_redundant_relations_2(graph, results_set):\n",
    "    redundant_rels = set()\n",
    "    for res in tqdm(results_set):\n",
    "        #graph_copy = copy.deepcopy(graph)\n",
    "        graph_copy = graph.copy()\n",
    "        res_con_id, res_con_label, res_anc_id, res_anc_label, res_association = res\n",
    "        for other_res in results_set:\n",
    "            if res == other_res:\n",
    "                continue\n",
    "            other_res_con_id, other_res_con_label, other_res_anc_id, other_res_anc_label, other_res_association = other_res\n",
    "            graph_copy.add_edge(other_res_con_id, other_res_anc_id)\n",
    "\n",
    "        if nx.has_path(graph_copy, res_con_id, res_anc_id):\n",
    "            redundant_rels.add(res)\n",
    "    return results_set.difference(redundant_rels)"
   ]
  },
  {
   "cell_type": "code",
   "execution_count": 93,
   "id": "e0c89e7d-2bb2-4f13-960e-18ec3d9be85f",
   "metadata": {},
   "outputs": [
    {
     "name": "stderr",
     "output_type": "stream",
     "text": [
      "100%|████████████████████████████████████████████████████████████████████████████████| 293/293 [08:07<00:00,  1.66s/it]\n"
     ]
    }
   ],
   "source": [
    "potential_missing_isa_nonRedundant = remove_redundant_relations_2(G_ncit, potential_missing_isa)"
   ]
  },
  {
   "cell_type": "code",
   "execution_count": 94,
   "id": "27f42cb0-fc86-44e4-be35-65aed81aa5b3",
   "metadata": {},
   "outputs": [
    {
     "data": {
      "text/plain": [
       "120"
      ]
     },
     "execution_count": 94,
     "metadata": {},
     "output_type": "execute_result"
    }
   ],
   "source": [
    "len(potential_missing_isa_nonRedundant)"
   ]
  },
  {
   "cell_type": "code",
   "execution_count": 95,
   "id": "38d098ef-ed3b-4950-b18f-f3bd66663aed",
   "metadata": {},
   "outputs": [
    {
     "data": {
      "text/plain": [
       "38"
      ]
     },
     "execution_count": 95,
     "metadata": {},
     "output_type": "execute_result"
    }
   ],
   "source": [
    "# Checking how many belonging to the drug subhierarchy\n",
    "drug_subhierarchy_results = set()\n",
    "for con_id, con_label, anc_id, anc_label, association in potential_missing_isa_nonRedundant:\n",
    "    if 'C1908' in con_ancs[con_id]:\n",
    "        drug_subhierarchy_results.add((con_id, con_label, anc_id, anc_label, association))\n",
    "\n",
    "len(drug_subhierarchy_results)"
   ]
  },
  {
   "cell_type": "code",
   "execution_count": 99,
   "id": "d28d94b6-ff5a-4546-8eed-c4b19c7c9dfc",
   "metadata": {},
   "outputs": [],
   "source": [
    "res_drug_potential_df = pd.DataFrame(drug_subhierarchy_results, columns=['child_id', 'child_label', 'parent_id', 'parent_label', 'association'])\n",
    "res_drug_potential_df.to_excel('Outputs/NCIT_drug_potentialMissing_associationsMarked_correct_final.xlsx')"
   ]
  },
  {
   "cell_type": "code",
   "execution_count": 100,
   "id": "f3994d95-248b-45de-af03-8e2bd950ca25",
   "metadata": {},
   "outputs": [
    {
     "data": {
      "text/plain": [
       "20"
      ]
     },
     "execution_count": 100,
     "metadata": {},
     "output_type": "execute_result"
    }
   ],
   "source": [
    "len(res_drug_potential_df[res_drug_potential_df['association']==''])"
   ]
  },
  {
   "cell_type": "code",
   "execution_count": 101,
   "id": "c8dcb232-5d5a-4b98-b2fb-ce189a12857d",
   "metadata": {},
   "outputs": [],
   "source": [
    "res_drug_potential_df[res_drug_potential_df['association']==''].to_excel('Outputs/NCIT_drug_potentialMissing_correct_final.xlsx')"
   ]
  },
  {
   "cell_type": "code",
   "execution_count": 96,
   "id": "f6169e58-3a8c-4036-aca3-c90c9d513842",
   "metadata": {},
   "outputs": [],
   "source": [
    "# res_potential_df = pd.DataFrame(potential_missing_isa_nonRedundant, columns=['child_id', 'child_label', 'parent_id', 'parent_label', 'association'])\n",
    "# res_potential_df.to_excel('Outputs/NCIT_drug_potentialMissing_associationsMarked.xlsx')\n",
    "\n",
    "res_potential_df = pd.DataFrame(potential_missing_isa_nonRedundant, columns=['child_id', 'child_label', 'parent_id', 'parent_label', 'association'])\n",
    "res_potential_df.to_excel('Outputs/NCIT_potentialMissing_associationsMarked_correct_final.xlsx')"
   ]
  },
  {
   "cell_type": "code",
   "execution_count": 97,
   "id": "6ce43b21-0894-4598-99de-699116b8385d",
   "metadata": {},
   "outputs": [
    {
     "data": {
      "text/plain": [
       "102"
      ]
     },
     "execution_count": 97,
     "metadata": {},
     "output_type": "execute_result"
    }
   ],
   "source": [
    "# number of potential missing is-a with no association\n",
    "len(res_potential_df[res_potential_df['association']==''])"
   ]
  },
  {
   "cell_type": "code",
   "execution_count": 98,
   "id": "e3eb0e6e-a393-49af-a4b4-4316cb0bbb53",
   "metadata": {},
   "outputs": [],
   "source": [
    "# writing to file: no associations\n",
    "res_potential_df[res_potential_df['association']==''].to_excel('Outputs/NCIT_potentialMissing_correct_final.xlsx')"
   ]
  }
 ],
 "metadata": {
  "kernelspec": {
   "display_name": "Python 3 (ipykernel)",
   "language": "python",
   "name": "python3"
  },
  "language_info": {
   "codemirror_mode": {
    "name": "ipython",
    "version": 3
   },
   "file_extension": ".py",
   "mimetype": "text/x-python",
   "name": "python",
   "nbconvert_exporter": "python",
   "pygments_lexer": "ipython3",
   "version": "3.10.4"
  }
 },
 "nbformat": 4,
 "nbformat_minor": 5
}
